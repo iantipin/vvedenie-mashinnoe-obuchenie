{
 "cells": [
  {
   "cell_type": "code",
   "execution_count": null,
   "metadata": {},
   "outputs": [],
   "source": [
    "Python 2.7"
   ]
  },
  {
   "cell_type": "code",
   "execution_count": 14,
   "metadata": {},
   "outputs": [],
   "source": [
    "# coding=utf8\n",
    "\n",
    "from __future__ import division\n",
    "\n",
    "import warnings\n",
    "\n",
    "warnings.filterwarnings( 'ignore', category=DeprecationWarning ) \n",
    "\n",
    "import pandas as pd\n",
    "import numpy as np\n",
    "import datetime\n",
    "from sklearn.model_selection import KFold, cross_val_score\n",
    "from sklearn.model_selection import GridSearchCV\n",
    "from sklearn.ensemble import GradientBoostingClassifier\n",
    "from sklearn.preprocessing import StandardScaler\n",
    "from sklearn.linear_model import LogisticRegression"
   ]
  },
  {
   "cell_type": "markdown",
   "metadata": {},
   "source": [
    "Получаем список уникальных героев."
   ]
  },
  {
   "cell_type": "code",
   "execution_count": 3,
   "metadata": {},
   "outputs": [],
   "source": [
    "def get_unique_heroes( data ):\n",
    "    unique_heroes = []\n",
    "\n",
    "    for column_name in hero_columns:\n",
    "        for v in data[column_name].value_counts().index:\n",
    "            if v not in unique_heroes:\n",
    "                unique_heroes.append( v )\n",
    "\n",
    "    print ''\n",
    "    print 'unique_heroes:', len( unique_heroes )\n",
    "\n",
    "    return unique_heroes"
   ]
  },
  {
   "cell_type": "markdown",
   "metadata": {},
   "source": [
    "Получаем матрицу признаков уникальных героев."
   ]
  },
  {
   "cell_type": "code",
   "execution_count": 4,
   "metadata": {},
   "outputs": [],
   "source": [
    "def get_X_heroes( data ):\n",
    "    unique_heroes = get_unique_heroes( data )\n",
    "    number_heroes = len( unique_heroes )\n",
    "\n",
    "    X_heroes = np.zeros( (data.shape[0], number_heroes) )\n",
    "\n",
    "    for i, match_id in enumerate( data.index ):\n",
    "        for p in xrange( 5 ):\n",
    "            r_hero_id = data.ix[match_id, 'r%d_hero' % (p + 1)]\n",
    "            X_heroes[i, unique_heroes.index( r_hero_id )] = 1\n",
    "\n",
    "            d_hero_id = data.ix[match_id, 'd%d_hero' % (p + 1)]\n",
    "            X_heroes[i, unique_heroes.index( d_hero_id )] = -1\n",
    "\n",
    "    return X_heroes"
   ]
  },
  {
   "cell_type": "markdown",
   "metadata": {},
   "source": [
    "Получаем признаки и метки класса предварительно подготовив данные:\n",
    "\n",
    "is_drop – удаляем лишнее;\n",
    "is_fillna – заменяем пропуски на нули;\n",
    "is_scaler – масштабируем;\n",
    "is_X_heroes – получаем матрицу признаков уникальных героев.\n"
   ]
  },
  {
   "cell_type": "code",
   "execution_count": 5,
   "metadata": {},
   "outputs": [],
   "source": [
    "def get_X_y( data_source, target_column, is_y = True, is_drop = False, is_fillna = False, is_scaler = False, is_X_heroes = False,\n",
    "             drop_columns = [] ):\n",
    "    if is_drop and len( drop_columns ):\n",
    "        data = data_source.drop( columns = drop_columns )\n",
    "\n",
    "        print 'drop'\n",
    "    else:\n",
    "        data = data_source\n",
    "\n",
    "    if is_y:\n",
    "        y = data[target_column]\n",
    "        X = data.drop( columns = [target_column] )\n",
    "    else:\n",
    "        y = []\n",
    "        X = data\n",
    "\n",
    "    if is_fillna:\n",
    "        X.fillna( 0, inplace = True )\n",
    "\n",
    "        print 'fillna'\n",
    "\n",
    "    if is_scaler:\n",
    "        scaler = StandardScaler()\n",
    "        scaler.fit( X, y )\n",
    "\n",
    "        X = scaler.fit_transform( X )\n",
    "\n",
    "        print 'scaler'\n",
    "\n",
    "    if is_X_heroes:\n",
    "        X_heroes = get_X_heroes( data_source )\n",
    "\n",
    "        X = np.hstack( (X, X_heroes) )\n",
    "\n",
    "        print 'X_heroes'\n",
    "\n",
    "    print ''\n",
    "\n",
    "    return X, y"
   ]
  },
  {
   "cell_type": "markdown",
   "metadata": {},
   "source": [
    "Печатаем признаки имеющие пропуски среди своих значений."
   ]
  },
  {
   "cell_type": "code",
   "execution_count": 6,
   "metadata": {},
   "outputs": [],
   "source": [
    "def print_incomplete_columns( data ):\n",
    "    # train_df.isnull().sum()\n",
    "\n",
    "    incomplete_columns = []\n",
    "\n",
    "    count_rows = data.shape[0]\n",
    "\n",
    "    for column_name in data.columns:\n",
    "        count_values = data[column_name].count()\n",
    "\n",
    "        if count_values < count_rows:\n",
    "            incomplete_columns.append(\n",
    "                [column_name, count_rows - count_values, '%.2f' % (count_rows / count_values * 100 - 100)] )\n",
    "\n",
    "    df = pd.DataFrame( data = incomplete_columns, columns = ['Признак', 'Пропуски', 'Пропуски, %'] )\n",
    "\n",
    "    print 'Признаки имеющие пропуски среди своих значений:'\n",
    "    print ''\n",
    "    print df.sort_values( by = ['Пропуски, %'], ascending = False )\n",
    "    print ''\n"
   ]
  },
  {
   "cell_type": "markdown",
   "metadata": {},
   "source": [
    "Печатаем метрику качества для кросс-валидации."
   ]
  },
  {
   "cell_type": "code",
   "execution_count": 7,
   "metadata": {},
   "outputs": [],
   "source": [
    "def print_scoring( model, X, y, scoring = 'roc_auc', label = '' ):\n",
    "    cv_start_time = datetime.datetime.now()\n",
    "\n",
    "    cv = KFold( n_splits = 5, shuffle = True, random_state = random_state )\n",
    "\n",
    "    roc_auc = cross_val_score( model, X, y, cv = cv, scoring = scoring ).mean()\n",
    "\n",
    "    print label, scoring, '%.2f' % roc_auc\n",
    "    print datetime.datetime.now() - cv_start_time\n",
    "    print ''"
   ]
  },
  {
   "cell_type": "markdown",
   "metadata": {},
   "source": [
    "Печатаем лучшие параметры модели для кросс-валидации."
   ]
  },
  {
   "cell_type": "code",
   "execution_count": 8,
   "metadata": {},
   "outputs": [],
   "source": [
    "def print_best_params( model, param_grid, X, y, scoring = 'roc_auc' ):\n",
    "    cv_start_time = datetime.datetime.now()\n",
    "\n",
    "    cv = KFold( n_splits = 5, shuffle = True, random_state = random_state )\n",
    "\n",
    "    gs = GridSearchCV( model, param_grid, cv = cv, scoring = scoring )\n",
    "\n",
    "    gs.fit( X, y )\n",
    "\n",
    "    print 'best_params_', gs.best_params_\n",
    "    print datetime.datetime.now() - cv_start_time\n",
    "    print ''"
   ]
  },
  {
   "cell_type": "markdown",
   "metadata": {},
   "source": [
    "Задаём настройки и определяем переменный."
   ]
  },
  {
   "cell_type": "code",
   "execution_count": 9,
   "metadata": {},
   "outputs": [
    {
     "name": "stdout",
     "output_type": "stream",
     "text": [
      "Time start: 2018-04-04 23:02:45.286122\n",
      "\n"
     ]
    }
   ],
   "source": [
    "pd.set_option( 'display.width', 1024 )\n",
    "random_state = 31337\n",
    "start_time = datetime.datetime.now()\n",
    "\n",
    "print 'Time start:', start_time\n",
    "print ''\n",
    "\n",
    "overfitting_columns = ['duration', 'tower_status_radiant', 'tower_status_dire',\n",
    "                       'barracks_status_radiant',\n",
    "                       'barracks_status_dire']\n",
    "\n",
    "hero_columns = ['r1_hero', 'r2_hero', 'r3_hero', 'r4_hero', 'r5_hero', 'd1_hero', 'd2_hero', 'd3_hero', 'd4_hero', 'd5_hero']\n",
    "\n",
    "categorical_columns = [\n",
    "    'lobby_type'\n",
    "]\n",
    "categorical_columns = np.hstack( (hero_columns, categorical_columns) )\n",
    "\n",
    "useless_columns = ['start_time']"
   ]
  },
  {
   "cell_type": "markdown",
   "metadata": {},
   "source": [
    "Начинаем работать с обучающими данными."
   ]
  },
  {
   "cell_type": "code",
   "execution_count": 10,
   "metadata": {},
   "outputs": [
    {
     "name": "stdout",
     "output_type": "stream",
     "text": [
      "Признаки имеющие пропуски среди своих значений:\n",
      "\n",
      "                        Признак  Пропуски Пропуски, %\n",
      "3           first_blood_player2     43987       82.62\n",
      "6   radiant_flying_courier_time     27479       39.40\n",
      "10     dire_flying_courier_time     26098       36.69\n",
      "0              first_blood_time     19553       25.17\n",
      "1              first_blood_team     19553       25.17\n",
      "2           first_blood_player1     19553       25.17\n",
      "8              dire_bottle_time     16143       19.91\n",
      "4           radiant_bottle_time     15691       19.24\n",
      "7       radiant_first_ward_time      1836        1.92\n",
      "11         dire_first_ward_time      1826        1.91\n",
      "5          radiant_courier_time       692        0.72\n",
      "9             dire_courier_time       676        0.70\n",
      "\n",
      "Целевая переменная: radiant_win\n",
      "\n"
     ]
    }
   ],
   "source": [
    "###################################\n",
    "#\n",
    "# Train\n",
    "#\n",
    "###################################\n",
    "\n",
    "features = pd.read_csv( './data/features.csv', index_col = 'match_id' )\n",
    "\n",
    "print_incomplete_columns( features )\n",
    "\n",
    "target_column = 'radiant_win'\n",
    "\n",
    "print 'Целевая переменная:', target_column\n",
    "print ''"
   ]
  },
  {
   "cell_type": "markdown",
   "metadata": {},
   "source": [
    "Тренируем модель GradientBoostingClassifier с лучшим параметрами.\n",
    "\n",
    "if True: и if False: – для быстрого включения и отключения выполнения блоков кода."
   ]
  },
  {
   "cell_type": "code",
   "execution_count": 13,
   "metadata": {
    "scrolled": false
   },
   "outputs": [
    {
     "name": "stdout",
     "output_type": "stream",
     "text": [
      "drop\n",
      "fillna\n",
      "\n",
      "GradientBoostingClassifier roc_auc 0.72\n",
      "0:10:01.855838\n",
      "\n"
     ]
    }
   ],
   "source": [
    "###################################\n",
    "#\n",
    "# Train, GradientBoostingClassifier\n",
    "#\n",
    "###################################\n",
    "if True:\n",
    "    drop_columns = np.hstack( (overfitting_columns, categorical_columns, useless_columns) )\n",
    "\n",
    "    X_train, y_train = get_X_y( features, target_column = target_column, is_drop = True, is_fillna = True, is_scaler = False, is_X_heroes = False, drop_columns = drop_columns )\n",
    "\n",
    "    model = GradientBoostingClassifier( n_estimators = 1000, max_depth = 1, random_state = random_state )\n",
    "\n",
    "    if False:\n",
    "        param_grid = { 'n_estimators': np.arange( 10, 40, 10 ) }\n",
    "\n",
    "        print_best_params( model, param_grid, X_train, y_train, scoring = 'roc_auc' )  # 'n_estimators': 30\n",
    "\n",
    "    if True:\n",
    "        print_scoring( model, X_train, y_train, scoring = 'roc_auc', label = 'GradientBoostingClassifier' )\n"
   ]
  },
  {
   "cell_type": "markdown",
   "metadata": {},
   "source": [
    "Отчет:\n",
    "\n",
    "1. Какие признаки имеют пропуски среди своих значений? Что могут означать пропуски в этих признаках (ответьте на этот вопрос для двух любых признаков)?\n",
    "\n",
    "        Признаки имеющие пропуски среди своих значений:\n",
    "\n",
    "        – first_blood_player2           # Признаки события \"первая кровь\" (first blood), второй игрок, причастный к событию\n",
    "        – radiant_flying_courier_time   # Время приобретения предмета \"flying_courier\"\n",
    "        – dire_flying_courier_time\n",
    "        – first_blood_time              # Признаки события \"первая кровь\" (first blood), игровое время первой крови\n",
    "        – first_blood_team\n",
    "        – first_blood_player1\n",
    "        – dire_bottle_time\n",
    "        – radiant_bottle_time\n",
    "        – radiant_first_ward_time\n",
    "        – dire_first_ward_time\n",
    "        – radiant_courier_time\n",
    "        – dire_courier_time\n",
    "\n",
    "        В первые 5-ть минут игры в 75% матчей случается событие \"первая кровь\" и в 60% матчей покупают предмет \"flying_courier\".\n",
    "\n",
    "\n",
    "2. Как называется столбец, содержащий целевую переменную?\n",
    "\n",
    "        radiant_win\n",
    "\n",
    "\n",
    "3. Как долго проводилась кросс-валидация для градиентного бустинга с 30 деревьями? Инструкцию по измерению времени можно найти ниже по тексту. Какое качество при этом получилось? Напомним, что в данном задании мы используем метрику качества AUC-ROC.\n",
    "    \n",
    "        2,7 GHz Intel Core i5\n",
    "        8 ГБ 1867 MHz DDR3\n",
    "\n",
    "        n_estimators = 30\n",
    "        0:01:19\n",
    "        roc_auc 0.69\n",
    "\n",
    "\n",
    "4. Имеет ли смысл использовать больше 30 деревьев в градиентном бустинге? Что бы вы предложили делать, чтобы ускорить его обучение при увеличении количества деревьев?\n",
    "\n",
    "        Иеет смысл использовать больше 30 деревьев в градиентном бустинге:\n",
    "\n",
    "        n_estimators = 1000\n",
    "        0:42:49\n",
    "        roc_auc 0.72\n",
    "\n",
    "        Чтобы ускорить обучение модели, можно уменьшить глубину деревьев в градиентом бустинге (max_depth):\n",
    "\n",
    "        n_estimators = 1000, max_depth = 1\n",
    "        0:09:52\n",
    "        roc_auc 0.72"
   ]
  },
  {
   "cell_type": "markdown",
   "metadata": {},
   "source": [
    "Тренируем модель LogisticRegression с лучшим параметрами.\n",
    "\n",
    "if True: и if False: – для быстрого включения и отключения выполнения блоков кода."
   ]
  },
  {
   "cell_type": "code",
   "execution_count": 15,
   "metadata": {},
   "outputs": [
    {
     "name": "stdout",
     "output_type": "stream",
     "text": [
      "drop\n",
      "fillna\n",
      "scaler\n",
      "\n",
      "unique_heroes: 108\n",
      "X_heroes\n",
      "\n",
      "LogisticRegression roc_auc 0.75\n",
      "0:00:30.462027\n",
      "\n"
     ]
    }
   ],
   "source": [
    "###################################\n",
    "#\n",
    "# Train, LogisticRegression\n",
    "#\n",
    "###################################\n",
    "if True:\n",
    "    drop_columns = np.hstack( (overfitting_columns, categorical_columns) )\n",
    "\n",
    "    X_train, y_train = get_X_y( features, target_column = target_column, is_drop = True, is_fillna = True, is_scaler = True, is_X_heroes = True, drop_columns = drop_columns )\n",
    "\n",
    "    model = LogisticRegression( penalty = 'l2', C = 0.01, random_state = random_state )\n",
    "\n",
    "    if True:\n",
    "        print_scoring( model, X_train, y_train, scoring = 'roc_auc', label = 'LogisticRegression' )\n",
    "\n",
    "    if False:\n",
    "        param_grid = { 'C': np.arange( 0.01, 0.1, 0.01 ) }\n",
    "\n",
    "        print_best_params( model, param_grid, X_train, y_train, scoring = 'roc_auc' )  # {'C': 0.01}"
   ]
  },
  {
   "cell_type": "markdown",
   "metadata": {},
   "source": [
    "Отчет:\n",
    "\n",
    "1. Какое качество получилось у логистической регрессии над всеми исходными признаками? Как оно соотносится с качеством градиентного бустинга? Чем вы можете объяснить эту разницу? Быстрее ли работает логистическая регрессия по сравнению с градиентным бустингом?\n",
    "\n",
    "        2,7 GHz Intel Core i5\n",
    "        8 ГБ 1867 MHz DDR3\n",
    "\n",
    "        0:00:14\n",
    "        roc_auc 0.72\n",
    "\n",
    "        Логистическая регрессия работает быстрее, при этом качество сопоставимо с качеством градиентного бустинга. Линейные методы работают гораздо быстрее композиций деревьев.\n",
    "    \n",
    "\n",
    "2. Как влияет на качество логистической регрессии удаление категориальных признаков (укажите новое значение метрики качества)? Чем вы можете объяснить это изменение?\n",
    "\n",
    "        0:00:10\n",
    "        roc_auc 0.72\n",
    "\n",
    "        Удаление категориальных признаков не влияет на качество логистической регрессии.\n",
    "\n",
    "\n",
    "3. Сколько различных идентификаторов героев существует в данной игре?\n",
    "\n",
    "        108\n",
    "\n",
    "\n",
    "4. Какое получилось качество при добавлении \"мешка слов\" по героям? Улучшилось ли оно по сравнению с предыдущим вариантом? Чем вы можете это объяснить?\n",
    "\n",
    "        0:00:17\n",
    "        roc_auc 0.75\n",
    "\n",
    "        Качество улучшилось. Категориальные признаки трансформированы в матрицу признаков для каждого героя.\n",
    "\n",
    "\n",
    "5. Какое минимальное и максимальное значение прогноза на тестовой выборке получилось у лучшего из алгоритмов?\n",
    "\n",
    "        Min: 0.00713\n",
    "        Max: 0.99307"
   ]
  },
  {
   "cell_type": "markdown",
   "metadata": {},
   "source": [
    "Строем предсказания вероятностей победы команды Radiant для тестовой выборки."
   ]
  },
  {
   "cell_type": "code",
   "execution_count": 16,
   "metadata": {},
   "outputs": [
    {
     "name": "stdout",
     "output_type": "stream",
     "text": [
      "drop\n",
      "fillna\n",
      "scaler\n",
      "\n",
      "unique_heroes: 108\n",
      "X_heroes\n",
      "\n",
      "Min: 0.00713\n",
      "Max: 0.99307\n",
      "\n"
     ]
    }
   ],
   "source": [
    "###################################\n",
    "#\n",
    "# Test, LogisticRegression\n",
    "#\n",
    "###################################\n",
    "if True:\n",
    "    features_test = pd.read_csv( './data/features_test.csv', index_col = 'match_id' )\n",
    "\n",
    "    drop_columns = np.hstack( (categorical_columns) )\n",
    "\n",
    "    X_test, y_empty = get_X_y( features_test, is_y = False, target_column = target_column, is_drop = True, is_fillna = True, is_scaler = True, is_X_heroes = True, drop_columns = drop_columns )\n",
    "\n",
    "    model.fit( X_train, y_train )\n",
    "\n",
    "    pred = model.predict_proba( X_test )[:, 1]\n",
    "\n",
    "    print 'Min:', '%.5f' % pred.min()\n",
    "    print 'Max:', '%.5f' % pred.max()\n",
    "    print ''"
   ]
  },
  {
   "cell_type": "code",
   "execution_count": 13,
   "metadata": {},
   "outputs": [
    {
     "name": "stdout",
     "output_type": "stream",
     "text": [
      "Time elapsed: 0:01:27.189072\n"
     ]
    }
   ],
   "source": [
    "print 'Time elapsed:', datetime.datetime.now() - start_time"
   ]
  }
 ],
 "metadata": {
  "kernelspec": {
   "display_name": "Python 2",
   "language": "python",
   "name": "python2"
  },
  "language_info": {
   "codemirror_mode": {
    "name": "ipython",
    "version": 2
   },
   "file_extension": ".py",
   "mimetype": "text/x-python",
   "name": "python",
   "nbconvert_exporter": "python",
   "pygments_lexer": "ipython2",
   "version": "2.7.14"
  }
 },
 "nbformat": 4,
 "nbformat_minor": 2
}
